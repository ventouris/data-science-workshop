{
 "cells": [
  {
   "cell_type": "markdown",
   "metadata": {},
   "source": [
    "### Available Documentation\n",
    "\n",
    "https://api.chucknorris.io/"
   ]
  },
  {
   "cell_type": "code",
   "execution_count": null,
   "metadata": {},
   "outputs": [],
   "source": [
    "import requests \n",
    "\n",
    "url = 'https://api.chucknorris.io/jokes/random'\n",
    "\n",
    "r = requests.get(url) \n",
    "json_data = r.json()\n",
    "\n",
    "json_data"
   ]
  },
  {
   "cell_type": "code",
   "execution_count": null,
   "metadata": {},
   "outputs": [],
   "source": [
    "for key, value in json_data.items():\n",
    "    print(key + ':', value)\n",
    "    print()"
   ]
  },
  {
   "cell_type": "code",
   "execution_count": null,
   "metadata": {},
   "outputs": [],
   "source": [
    "url = 'https://api.chucknorris.io/jokes/categories'\n",
    "\n",
    "r = requests.get(url) \n",
    "json_data = r.json()\n",
    "\n",
    "json_data"
   ]
  },
  {
   "cell_type": "code",
   "execution_count": null,
   "metadata": {},
   "outputs": [],
   "source": [
    "url = 'https://api.chucknorris.io/jokes/random?category=' + 'science'\n",
    "\n",
    "r = requests.get(url) \n",
    "json_data = r.json()\n",
    "json_data"
   ]
  },
  {
   "cell_type": "code",
   "execution_count": null,
   "metadata": {},
   "outputs": [],
   "source": [
    "url = 'https://api.chucknorris.io/jokes/search?query=' + 'data'\n",
    "\n",
    "r = requests.get(url) \n",
    "json_data = r.json()\n",
    "\n",
    "for quote in json_data['result']:\n",
    "    for key, value in quote.items():\n",
    "        print(key + ':', value)\n",
    "    print(10 * '-')"
   ]
  },
  {
   "cell_type": "markdown",
   "metadata": {},
   "source": [
    "### Api keys?\n",
    "\n",
    "```\n",
    "headers = {'content-type': 'application/json', 'token': 'abcdef123456'}\n",
    "r = requests.get(url, headers=headers) \n",
    "```\n"
   ]
  },
  {
   "cell_type": "code",
   "execution_count": null,
   "metadata": {},
   "outputs": [],
   "source": []
  }
 ],
 "metadata": {
  "kernelspec": {
   "display_name": "Python 3",
   "language": "python",
   "name": "python3"
  },
  "language_info": {
   "codemirror_mode": {
    "name": "ipython",
    "version": 3
   },
   "file_extension": ".py",
   "mimetype": "text/x-python",
   "name": "python",
   "nbconvert_exporter": "python",
   "pygments_lexer": "ipython3",
   "version": "3.7.3"
  }
 },
 "nbformat": 4,
 "nbformat_minor": 2
}
