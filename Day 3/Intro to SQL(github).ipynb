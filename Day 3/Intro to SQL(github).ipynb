{
 "cells": [
  {
   "cell_type": "markdown",
   "metadata": {},
   "source": [
    "### Factbook Database from CIA\n",
    "\n",
    "https://github.com/factbook/factbook.sql\n",
    "\n",
    "```\n",
    "CREATE TABLE \"facts\" (\n",
    "  \"id\" INTEGER PRIMARY KEY AUTOINCREMENT NOT NULL,\n",
    "  \"code\" varchar(255) NOT NULL,\n",
    "  \"name\" varchar(255) NOT NULL,\n",
    "  \n",
    "  ---------------------------------------\n",
    "  -- Geography\n",
    "  \"area\"       integer,\n",
    "  \"area_land\"  integer,\n",
    "  \"area_water\" integer,\n",
    "  \n",
    "  ----------------------------------------\n",
    "  -- People and Society\n",
    "  \"population\"        integer,\n",
    "  \"population_growth\" float,\n",
    "  \"birth_rate\"        float,\n",
    "  \"death_rate\"        float,\n",
    "  \"migration_rate\"    float,\n",
    "  \n",
    "  --------------------------------\n",
    "  -- Timestamp\n",
    "  \"created_at\" datetime,\n",
    "  \"updated_at\" datetime\n",
    ")\n",
    "```"
   ]
  },
  {
   "cell_type": "markdown",
   "metadata": {},
   "source": [
    "### SELECT / WHERE\n",
    "\n",
    "```\n",
    "SELECT column_name(s)\n",
    "FROM table_name\n",
    "WHERE condition AND|OR condition\n",
    "```"
   ]
  },
  {
   "cell_type": "code",
   "execution_count": null,
   "metadata": {},
   "outputs": [],
   "source": [
    "import sqlite3\n",
    "import pandas as pd\n",
    "\n",
    "conn = sqlite3.connect(\"factbook.db\")\n",
    "facts = pd.read_sql_query(\"SELECT * FROM facts;\",conn)\n",
    "facts.head(5)"
   ]
  },
  {
   "cell_type": "markdown",
   "metadata": {},
   "source": [
    "### Αριθμός γραμμών"
   ]
  },
  {
   "cell_type": "code",
   "execution_count": null,
   "metadata": {},
   "outputs": [],
   "source": [
    "facts.shape"
   ]
  },
  {
   "cell_type": "markdown",
   "metadata": {},
   "source": [
    "### Ερώτημα με συγκεκριμένες στήλες\n",
    "\n",
    "```\n",
    "SELECT name, population \n",
    "FROM facts\n",
    "```"
   ]
  },
  {
   "cell_type": "code",
   "execution_count": null,
   "metadata": {},
   "outputs": [],
   "source": [
    "facts = pd.read_sql_query(\"SELECT name, population FROM facts;\",conn)\n",
    "facts.head(5)"
   ]
  },
  {
   "cell_type": "markdown",
   "metadata": {},
   "source": [
    "### Ή με συγκεκριμένες γραμμές"
   ]
  },
  {
   "cell_type": "markdown",
   "metadata": {},
   "source": [
    "```\n",
    "SELECT name, population \n",
    "FROM facts \n",
    "WHERE population > 50000000\n",
    "```"
   ]
  },
  {
   "cell_type": "code",
   "execution_count": null,
   "metadata": {},
   "outputs": [],
   "source": [
    "pd.read_sql_query(\"SELECT name, population FROM facts WHERE population > 50000000;\",conn)"
   ]
  },
  {
   "cell_type": "markdown",
   "metadata": {},
   "source": [
    "```\n",
    "SELECT name, population \n",
    "FROM facts \n",
    "WHERE population BETWEEN 10000000 AND 20000000\n",
    "```"
   ]
  },
  {
   "cell_type": "code",
   "execution_count": null,
   "metadata": {},
   "outputs": [],
   "source": [
    "pd.read_sql_query(\"SELECT name, population FROM facts WHERE population BETWEEN 10000000 AND 20000000;\",conn)"
   ]
  },
  {
   "cell_type": "markdown",
   "metadata": {},
   "source": [
    "```\n",
    "SELECT name, population \n",
    "FROM facts \n",
    "WHERE population IN (16955536,13975834,12042910)\n",
    "```"
   ]
  },
  {
   "cell_type": "code",
   "execution_count": null,
   "metadata": {},
   "outputs": [],
   "source": [
    "pd.read_sql_query(\"SELECT name, population FROM facts WHERE population IN (16955536,13975834,12042910) ;\",conn)"
   ]
  },
  {
   "cell_type": "markdown",
   "metadata": {},
   "source": [
    "```\n",
    "SELECT name, population \n",
    "FROM facts \n",
    "WHERE name LIKE '%reec%'\n",
    "```"
   ]
  },
  {
   "cell_type": "code",
   "execution_count": null,
   "metadata": {},
   "outputs": [],
   "source": [
    "pd.read_sql_query(\"SELECT name, population FROM facts WHERE name LIKE '%reec%' ;\",conn)"
   ]
  },
  {
   "cell_type": "markdown",
   "metadata": {},
   "source": [
    "### COUNT, MIN, MAX, SUM, AVG\n",
    "\n",
    "```\n",
    "SELECT COUNT(*) as TotalCountries \n",
    "FROM facts;\n",
    "```"
   ]
  },
  {
   "cell_type": "code",
   "execution_count": null,
   "metadata": {},
   "outputs": [],
   "source": [
    "pd.read_sql_query(\"SELECT COUNT(*) as TotalCountries FROM facts;\",conn)"
   ]
  },
  {
   "cell_type": "markdown",
   "metadata": {},
   "source": [
    "```\n",
    "SELECT name, MIN(population) As population \n",
    "FROM facts\n",
    "```"
   ]
  },
  {
   "cell_type": "code",
   "execution_count": null,
   "metadata": {},
   "outputs": [],
   "source": [
    "pd.read_sql_query(\"SELECT name, MIN(population) As population FROM facts;\",conn)"
   ]
  },
  {
   "cell_type": "markdown",
   "metadata": {},
   "source": [
    "```\n",
    "SELECT SUM(population) As TotalPopulation \n",
    "FROM facts\n",
    "```"
   ]
  },
  {
   "cell_type": "code",
   "execution_count": null,
   "metadata": {},
   "outputs": [],
   "source": [
    "pd.read_sql_query(\"SELECT SUM(population) As TotalPopulation FROM facts;\",conn)"
   ]
  },
  {
   "cell_type": "markdown",
   "metadata": {},
   "source": [
    "```\n",
    "SELECT name, MAX(population) as population FROM facts\n",
    "```"
   ]
  },
  {
   "cell_type": "code",
   "execution_count": null,
   "metadata": {},
   "outputs": [],
   "source": [
    "pd.read_sql_query(\"SELECT name, MAX(population) as population FROM facts;\",conn)"
   ]
  },
  {
   "cell_type": "markdown",
   "metadata": {},
   "source": [
    "```\n",
    "SELECT SUM(population) As TotalPopulation \n",
    "FROM facts \n",
    "WHERE name NOT IN ('World', 'European Union')\n",
    "```"
   ]
  },
  {
   "cell_type": "code",
   "execution_count": null,
   "metadata": {},
   "outputs": [],
   "source": [
    "pd.read_sql_query(\"SELECT SUM(population) As TotalPopulation FROM facts WHERE name NOT IN ('World', 'European Union');\",conn)"
   ]
  },
  {
   "cell_type": "markdown",
   "metadata": {},
   "source": [
    "```\n",
    "SELECT AVG(population) \n",
    "FROM facts\n",
    "```"
   ]
  },
  {
   "cell_type": "code",
   "execution_count": null,
   "metadata": {},
   "outputs": [],
   "source": [
    "pd.read_sql_query(\"SELECT AVG(population) FROM facts;\",conn)"
   ]
  },
  {
   "cell_type": "markdown",
   "metadata": {},
   "source": [
    "### LIMIT\n",
    "\n",
    "```\n",
    "SELECT column_name(s)\n",
    "FROM table_name\n",
    "WHERE condition AND|OR condition\n",
    "LIMIT integer\n",
    "```"
   ]
  },
  {
   "cell_type": "code",
   "execution_count": null,
   "metadata": {},
   "outputs": [],
   "source": [
    "pd.read_sql_query(\"SELECT name, population FROM facts LIMIT 10;\",conn)"
   ]
  },
  {
   "cell_type": "markdown",
   "metadata": {},
   "source": [
    "### ORDER BY\n",
    "\n",
    "```\n",
    "SELECT column_name(s)\n",
    "FROM table_name\n",
    "WHERE condition AND|OR condition\n",
    "ORDER BY column_name [ASC|DESC]\n",
    "```"
   ]
  },
  {
   "cell_type": "code",
   "execution_count": null,
   "metadata": {},
   "outputs": [],
   "source": [
    "pd.read_sql_query(\"SELECT name, population FROM facts ORDER BY population ASC;\",conn)\n",
    "facts.head(30)"
   ]
  },
  {
   "cell_type": "markdown",
   "metadata": {},
   "source": [
    "```\n",
    "SELECT name, population \n",
    "FROM facts \n",
    "WHERE population > 50000000 AND name != 'World' \n",
    "ORDER BY population DESC\n",
    "```"
   ]
  },
  {
   "cell_type": "code",
   "execution_count": null,
   "metadata": {},
   "outputs": [],
   "source": [
    "pd.read_sql_query(\"SELECT name, population FROM facts WHERE population > 50000000 AND name != 'World' ORDER BY population DESC;\",conn)"
   ]
  },
  {
   "cell_type": "markdown",
   "metadata": {},
   "source": [
    "### DISTINCT\n",
    "\n",
    "```\n",
    "SELECT DISTINCT(column_name)\n",
    "FROM table_name\n",
    "WHERE condition AND|OR condition\n",
    "```\n"
   ]
  },
  {
   "cell_type": "code",
   "execution_count": null,
   "metadata": {},
   "outputs": [],
   "source": [
    "pd.read_sql_query(\"SELECT DISTINCT(population_growth) FROM facts;\",conn)"
   ]
  },
  {
   "cell_type": "markdown",
   "metadata": {},
   "source": [
    "```\n",
    "SELECT COUNT(DISTINCT(population_growth)) \n",
    "FROM facts\n",
    "```"
   ]
  },
  {
   "cell_type": "code",
   "execution_count": null,
   "metadata": {},
   "outputs": [],
   "source": [
    "pd.read_sql_query(\"SELECT COUNT(DISTINCT(population_growth)) FROM facts;\",conn)"
   ]
  },
  {
   "cell_type": "markdown",
   "metadata": {},
   "source": [
    "### Πράξεις\n",
    "\n",
    "```\n",
    "SELECT name, population/1000 \n",
    "FROM facts\n",
    "```"
   ]
  },
  {
   "cell_type": "code",
   "execution_count": null,
   "metadata": {},
   "outputs": [],
   "source": [
    "pd.read_sql_query(\"SELECT name, population/1000 FROM facts;\",conn)"
   ]
  },
  {
   "cell_type": "markdown",
   "metadata": {},
   "source": [
    "```\n",
    "SELECT name, area, area_water, area_land, area_water + area_land \n",
    "FROM facts\n",
    "```"
   ]
  },
  {
   "cell_type": "code",
   "execution_count": null,
   "metadata": {},
   "outputs": [],
   "source": [
    "pd.read_sql_query(\"SELECT name, area, area_water, area_land, area_water + area_land FROM facts;\", conn)"
   ]
  },
  {
   "cell_type": "code",
   "execution_count": null,
   "metadata": {},
   "outputs": [],
   "source": [
    "conn.close()"
   ]
  },
  {
   "cell_type": "markdown",
   "metadata": {},
   "source": [
    "## Chinook database"
   ]
  },
  {
   "cell_type": "code",
   "execution_count": null,
   "metadata": {},
   "outputs": [],
   "source": [
    "import sqlite3\n",
    "import pandas as pd\n",
    "\n",
    "conn = sqlite3.connect(\"chinook.db\",isolation_level=None)\n",
    "chinook = pd.read_sql_query(\"SELECT * FROM tracks;\",conn)\n",
    "chinook.head(5)"
   ]
  },
  {
   "cell_type": "code",
   "execution_count": null,
   "metadata": {},
   "outputs": [],
   "source": [
    "chinook = pd.read_sql_query(\"SELECT * FROM customers;\",conn)\n",
    "chinook.head(5)"
   ]
  },
  {
   "cell_type": "markdown",
   "metadata": {},
   "source": [
    "### GROUP BY\n",
    "\n",
    "```\n",
    "SELECT column_name, aggregate_function(column_name)\n",
    "FROM table_name\n",
    "WHERE column_name operator value\n",
    "GROUP BY column_name\n",
    "HAVING aggregate_function operator value\n",
    "```"
   ]
  },
  {
   "cell_type": "code",
   "execution_count": null,
   "metadata": {},
   "outputs": [],
   "source": [
    "pd.read_sql_query(\"SELECT Country, COUNT(*) FROM customers GROUP BY Country;\",conn)"
   ]
  },
  {
   "cell_type": "markdown",
   "metadata": {},
   "source": [
    "```\n",
    "SELECT Country, State, Count(*) \n",
    "FROM customers \n",
    "WHERE Country = 'Canada' \n",
    "GROUP BY State\n",
    "```"
   ]
  },
  {
   "cell_type": "code",
   "execution_count": null,
   "metadata": {},
   "outputs": [],
   "source": [
    "pd.read_sql_query(\"SELECT Country, State, Count(*) FROM customers WHERE Country = 'Canada' GROUP BY State;\",conn)"
   ]
  },
  {
   "cell_type": "markdown",
   "metadata": {},
   "source": [
    "```\n",
    "SELECT Country, COUNT(*) \n",
    "FROM customers \n",
    "GROUP BY Country \n",
    "HAVING COUNT(*) > 2\n",
    "```"
   ]
  },
  {
   "cell_type": "code",
   "execution_count": null,
   "metadata": {},
   "outputs": [],
   "source": [
    "pd.read_sql_query(\"SELECT Country, COUNT(*) FROM customers GROUP BY Country HAVING COUNT(*) > 2;\",conn)"
   ]
  },
  {
   "attachments": {
    "sql-joins.png": {
     "image/png": "[encoded data removed]"
    }
   },
   "cell_type": "markdown",
   "metadata": {},
   "source": [
    "### JOINS\n",
    "\n",
    "* (INNER) JOIN: Returns records that have matching values in both tables\n",
    "* LEFT (OUTER) JOIN: Return all records from the left table, and the matched records from the right table\n",
    "* RIGHT (OUTER) JOIN: Return all records from the right table, and the matched records from the left table\n",
    "* FULL (OUTER) JOIN: Return all records when there is a match in either left or right table\n",
    "\n",
    "![sql-joins.png](attachment:sql-joins.png)"
   ]
  },
  {
   "cell_type": "code",
   "execution_count": null,
   "metadata": {},
   "outputs": [],
   "source": [
    "pd.read_sql_query(\"SELECT * FROM tracks LIMIT 10;\",conn)"
   ]
  },
  {
   "cell_type": "code",
   "execution_count": null,
   "metadata": {},
   "outputs": [],
   "source": [
    "pd.read_sql_query(\"SELECT *  FROM genres;\",conn)"
   ]
  },
  {
   "cell_type": "markdown",
   "metadata": {},
   "source": [
    "```\n",
    "SELECT tracks.Name, genres.Name \n",
    "FROM tracks \n",
    "INNER JOIN genres ON tracks.GenreId = genres.GenreId\n",
    "```"
   ]
  },
  {
   "cell_type": "code",
   "execution_count": null,
   "metadata": {},
   "outputs": [],
   "source": [
    "pd.read_sql_query(\"SELECT tracks.Name, genres.Name FROM tracks INNER JOIN genres ON tracks.GenreId = genres.GenreId;\", conn)"
   ]
  },
  {
   "cell_type": "markdown",
   "metadata": {},
   "source": [
    "```\n",
    "SELECT genreid, COUNT(*) \n",
    "FROM tracks \n",
    "GROUP BY genreid\n",
    "```"
   ]
  },
  {
   "cell_type": "code",
   "execution_count": null,
   "metadata": {},
   "outputs": [],
   "source": [
    "pd.read_sql_query(\"SELECT genreid, COUNT(*) FROM tracks GROUP BY genreid;\",conn)"
   ]
  },
  {
   "cell_type": "markdown",
   "metadata": {},
   "source": [
    "### INSERT\n",
    "\n",
    "```\n",
    "INSERT INTO table_name (column1, column2, column3, ...)\n",
    "VALUES (value1, value2, value3, ...);\n",
    "```"
   ]
  },
  {
   "cell_type": "code",
   "execution_count": null,
   "metadata": {},
   "outputs": [],
   "source": [
    "conn.execute(\"INSERT INTO genres (GenreId, Name) VALUES (27,'laika2')\")"
   ]
  },
  {
   "cell_type": "code",
   "execution_count": null,
   "metadata": {},
   "outputs": [],
   "source": [
    "pd.read_sql_query(\"SELECT *  FROM genres;\",conn)"
   ]
  },
  {
   "cell_type": "markdown",
   "metadata": {},
   "source": [
    "### NULL\n",
    "\n",
    "```\n",
    "SELECT * \n",
    "FROM customers \n",
    "WHERE Fax IS NULL\n",
    "```"
   ]
  },
  {
   "cell_type": "code",
   "execution_count": null,
   "metadata": {},
   "outputs": [],
   "source": [
    "res = pd.read_sql_query(\"SELECT * FROM customers WHERE Fax IS NULL\",conn)\n",
    "res.head(5)"
   ]
  },
  {
   "cell_type": "markdown",
   "metadata": {},
   "source": [
    "```\n",
    "SELECT * \n",
    "FROM customers \n",
    "WHERE Fax IS NOT NULL\n",
    "```"
   ]
  },
  {
   "cell_type": "code",
   "execution_count": null,
   "metadata": {},
   "outputs": [],
   "source": [
    "res = pd.read_sql_query(\"SELECT * FROM customers WHERE Fax IS NOT NULL\",conn)\n",
    "res.head(5)"
   ]
  },
  {
   "cell_type": "markdown",
   "metadata": {},
   "source": [
    "### UPDATE\n",
    "\n",
    "```\n",
    "UPDATE table_name\n",
    "SET column1 = value1, column2 = value2, ...\n",
    "WHERE condition;\n",
    "```"
   ]
  },
  {
   "cell_type": "code",
   "execution_count": null,
   "metadata": {},
   "outputs": [],
   "source": [
    "conn.execute(\"UPDATE customers SET Fax = -1 WHERE Fax IS NULL\")"
   ]
  },
  {
   "cell_type": "code",
   "execution_count": null,
   "metadata": {},
   "outputs": [],
   "source": [
    "pd.read_sql_query(\"SELECT * FROM customers WHERE Fax IS NULL\",conn)"
   ]
  },
  {
   "cell_type": "markdown",
   "metadata": {},
   "source": [
    "### DELETE\n",
    "\n",
    "```\n",
    "DELETE FROM table_name\n",
    "WHERE condition;\n",
    "```"
   ]
  },
  {
   "cell_type": "code",
   "execution_count": null,
   "metadata": {},
   "outputs": [],
   "source": [
    "conn.execute(\"DELETE FROM customers WHERE Fax = -1\")"
   ]
  },
  {
   "cell_type": "code",
   "execution_count": null,
   "metadata": {},
   "outputs": [],
   "source": [
    "pd.read_sql_query(\"SELECT * FROM customers WHERE Fax = -1\",conn)"
   ]
  },
  {
   "cell_type": "markdown",
   "metadata": {},
   "source": [
    "### DATETIME\n",
    "\n",
    "```\n",
    "SELECT strftime('%Y', BirthDate), LastName \n",
    "FROM employees\n",
    "```"
   ]
  },
  {
   "cell_type": "code",
   "execution_count": null,
   "metadata": {},
   "outputs": [],
   "source": [
    "pd.read_sql_query(\"SELECT * FROM employees\",conn)"
   ]
  },
  {
   "cell_type": "code",
   "execution_count": null,
   "metadata": {},
   "outputs": [],
   "source": [
    "pd.read_sql_query(\"SELECT strftime('%Y', BirthDate) As YearOfBirth, LastName FROM employees\",conn)"
   ]
  },
  {
   "cell_type": "code",
   "execution_count": null,
   "metadata": {},
   "outputs": [],
   "source": []
  },
  {
   "cell_type": "markdown",
   "metadata": {},
   "source": [
    "### Άσκηση\n",
    "\n",
    "Να βρεθούν οι συνολικές πωλήσεις δίσκων ανά χρονιά, όπου το αποτέλεσμα θα είναι σαν την εικόνα\n",
    "\n",
    "![alt text](ex1.png \"Title\")"
   ]
  },
  {
   "cell_type": "markdown",
   "metadata": {},
   "source": [
    "### Άσκηση\n",
    "\n",
    "Να βρεθούν τα 20 τραγούδια με τις περισσότερες πωλήσεις (και πόσες ήταν αυτές)"
   ]
  },
  {
   "cell_type": "markdown",
   "metadata": {},
   "source": [
    "### IF - ELSE\n",
    "\n",
    "```\n",
    "CASE case_expression\n",
    "     WHEN when_expression_1 THEN result_1\n",
    "     WHEN when_expression_2 THEN result_2\n",
    "     ...\n",
    "     [ ELSE result_else ] \n",
    "END\n",
    "```\n",
    "\n",
    "```\n",
    "SELECT CASE \n",
    "        WHEN strftime('%m', invoiceDate) = '01' THEN 'January' \n",
    "        WHEN strftime('%m', invoiceDate) = '02' THEN 'February' \n",
    "        ELSE '...' \n",
    "       END AS Month, \n",
    "       invoiceDate \n",
    "FROM invoices\n",
    "```"
   ]
  },
  {
   "cell_type": "code",
   "execution_count": null,
   "metadata": {},
   "outputs": [],
   "source": [
    "pd.read_sql_query(\"SELECT CASE WHEN strftime('%m', invoiceDate) = '01' THEN 'January' WHEN strftime('%m', invoiceDate) = '02' THEN 'February' ELSE '...' END AS Month, invoiceDate FROM invoices\",conn)"
   ]
  },
  {
   "cell_type": "markdown",
   "metadata": {},
   "source": [
    "```\n",
    "SELECT SUM(CASE \n",
    "            WHEN strftime('%m', invoiceDate) = '01' THEN 1 \n",
    "            ELSE 0 \n",
    "           END) AS January, \n",
    "        SUM(CASE \n",
    "            WHEN strftime('%m', invoiceDate) = '02' THEN 1 \n",
    "            ELSE 0 \n",
    "        END) AS February\n",
    "FROM invoices\n",
    "```"
   ]
  },
  {
   "cell_type": "code",
   "execution_count": null,
   "metadata": {},
   "outputs": [],
   "source": [
    "pd.read_sql_query(\"SELECT SUM(CASE WHEN strftime('%m', invoiceDate) = '01' THEN 1 ELSE 0 END) AS January, SUM(CASE WHEN strftime('%m', invoiceDate) = '02' THEN 1 ELSE 0 END) AS February FROM invoices\",conn)"
   ]
  },
  {
   "cell_type": "code",
   "execution_count": null,
   "metadata": {},
   "outputs": [],
   "source": []
  }
 ],
 "metadata": {
  "kernelspec": {
   "display_name": "Python 3",
   "language": "python",
   "name": "python3"
  },
  "language_info": {
   "codemirror_mode": {
    "name": "ipython",
    "version": 3
   },
   "file_extension": ".py",
   "mimetype": "text/x-python",
   "name": "python",
   "nbconvert_exporter": "python",
   "pygments_lexer": "ipython3",
   "version": "3.6.6"
  }
 },
 "nbformat": 4,
 "nbformat_minor": 2
}
